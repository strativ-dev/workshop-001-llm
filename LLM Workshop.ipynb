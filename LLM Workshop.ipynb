{
 "cells": [
  {
   "cell_type": "markdown",
   "id": "bad5cf24-4ae6-47b2-a3e7-754a629fe930",
   "metadata": {},
   "source": [
    "# LLM Workshop\n",
    "\n",
    "Ensure your environment is configured and running."
   ]
  },
  {
   "cell_type": "code",
   "execution_count": 6,
   "id": "b74a847b-c901-4c85-a407-e0b56268a7e9",
   "metadata": {},
   "outputs": [],
   "source": [
    "from langchain.llms import OpenAI\n",
    "\n",
    "llm = OpenAI(openai_api_key=\"...\")"
   ]
  },
  {
   "cell_type": "code",
   "execution_count": 2,
   "id": "e1f6e78b-2543-42e3-b7e9-099c1cf8723d",
   "metadata": {},
   "outputs": [],
   "source": [
    "from langchain.llms import OpenAI\n",
    "from langchain.chat_models import ChatOpenAI"
   ]
  },
  {
   "cell_type": "code",
   "execution_count": 3,
   "id": "e7498b1e-618d-4818-a9c1-d2a04fc72319",
   "metadata": {},
   "outputs": [],
   "source": [
    "llm = OpenAI()\n",
    "chat_model = ChatOpenAI()"
   ]
  },
  {
   "cell_type": "code",
   "execution_count": 4,
   "id": "c7db8cf1-c67b-4d42-8f80-13c01cc65d43",
   "metadata": {},
   "outputs": [
    {
     "data": {
      "text/plain": [
       "'?\\n\\nA workshop is a meeting or conference in which a group of people come together to discuss and learn about a particular topic or activity.'"
      ]
     },
     "execution_count": 4,
     "metadata": {},
     "output_type": "execute_result"
    }
   ],
   "source": [
    "llm.predict(\"What's a workshop, in short\")"
   ]
  },
  {
   "cell_type": "code",
   "execution_count": 5,
   "id": "5f5cad98-9f62-482a-84c3-60bd2b1a3557",
   "metadata": {},
   "outputs": [
    {
     "data": {
      "text/plain": [
       "'A workshop is a collaborative and interactive session where participants engage in practical activities, discussions, or skill-building exercises to learn and develop specific knowledge or skills in a particular field or topic.'"
      ]
     },
     "execution_count": 5,
     "metadata": {},
     "output_type": "execute_result"
    }
   ],
   "source": [
    "chat_model.predict(\"What's a workshop, in short?\")"
   ]
  },
  {
   "cell_type": "code",
   "execution_count": null,
   "id": "d6ab1d0c-1b44-4615-9901-1c2b4efb9bd7",
   "metadata": {},
   "outputs": [],
   "source": []
  }
 ],
 "metadata": {
  "kernelspec": {
   "display_name": "Python 3 (ipykernel)",
   "language": "python",
   "name": "python3"
  },
  "language_info": {
   "codemirror_mode": {
    "name": "ipython",
    "version": 3
   },
   "file_extension": ".py",
   "mimetype": "text/x-python",
   "name": "python",
   "nbconvert_exporter": "python",
   "pygments_lexer": "ipython3",
   "version": "3.11.5"
  }
 },
 "nbformat": 4,
 "nbformat_minor": 5
}
